{
  "nbformat": 4,
  "nbformat_minor": 0,
  "metadata": {
    "colab": {
      "provenance": [],
      "collapsed_sections": []
    },
    "kernelspec": {
      "name": "python3",
      "display_name": "Python 3"
    },
    "language_info": {
      "name": "python"
    }
  },
  "cells": [
    {
      "cell_type": "code",
      "source": [
        "import zipfile\n",
        "from google.colab import drive\n",
        "\n",
        "drive.mount('/content/drive/')\n",
        "\n",
        "zip_ref = zipfile.ZipFile(\"/content/drive/MyDrive/Fertilizers_Recommendation_ System_For_Disease_ Prediction.zip\", 'r')\n",
        "zip_ref.extractall(\"/content/drive/MyDrive\")\n",
        "zip_ref.close()"
      ],
      "metadata": {
        "colab": {
          "base_uri": "https://localhost:8080/"
        },
        "id": "rfrg9_w21S_o",
        "outputId": "f82c1799-cba4-41bd-c75a-10bc1f0be9f1"
      },
      "execution_count": 1,
      "outputs": [
        {
          "output_type": "stream",
          "name": "stdout",
          "text": [
            "Mounted at /content/drive/\n"
          ]
        }
      ]
    },
    {
      "cell_type": "code",
      "source": [
        "ls"
      ],
      "metadata": {
        "colab": {
          "base_uri": "https://localhost:8080/"
        },
        "id": "AgVOH3DdcSTC",
        "outputId": "b973d6de-e83b-40ec-acc7-ddd6e0761740"
      },
      "execution_count": 2,
      "outputs": [
        {
          "output_type": "stream",
          "name": "stdout",
          "text": [
            "\u001b[0m\u001b[01;34mdrive\u001b[0m/  \u001b[01;34msample_data\u001b[0m/\n"
          ]
        }
      ]
    },
    {
      "cell_type": "code",
      "source": [
        "cd drive/MyDrive/Dataset Plant Disease"
      ],
      "metadata": {
        "colab": {
          "base_uri": "https://localhost:8080/"
        },
        "id": "MLkVkVWFd1lb",
        "outputId": "ceb646b0-b411-4a97-b978-abb79ff458df"
      },
      "execution_count": 3,
      "outputs": [
        {
          "output_type": "stream",
          "name": "stdout",
          "text": [
            "/content/drive/MyDrive/Dataset Plant Disease\n"
          ]
        }
      ]
    },
    {
      "cell_type": "code",
      "source": [
        "ls"
      ],
      "metadata": {
        "id": "AuTnq31sd5hj",
        "colab": {
          "base_uri": "https://localhost:8080/"
        },
        "outputId": "5d864e34-7fa5-4f9d-8979-f383f7488a5a"
      },
      "execution_count": 4,
      "outputs": [
        {
          "output_type": "stream",
          "name": "stdout",
          "text": [
            "\u001b[0m\u001b[01;34mfruit-dataset\u001b[0m/  \u001b[01;34mVeg-dataset\u001b[0m/\n"
          ]
        }
      ]
    },
    {
      "cell_type": "code",
      "execution_count": 5,
      "metadata": {
        "id": "d6EQgHMQzfnR"
      },
      "outputs": [],
      "source": [
        "from keras.preprocessing.image import ImageDataGenerator"
      ]
    },
    {
      "cell_type": "code",
      "source": [
        "train_datagen=ImageDataGenerator(rescale=1./255,shear_range=0.2,zoom_range=0.2,horizontal_flip=True)\n",
        "test_datagen=ImageDataGenerator(rescale=1)"
      ],
      "metadata": {
        "id": "gYPkyDx-1NUH"
      },
      "execution_count": 6,
      "outputs": []
    },
    {
      "cell_type": "code",
      "source": [
        "x_train=train_datagen.flow_from_directory('fruit-dataset/fruit-dataset/train',target_size=(128,128),batch_size=32,class_mode='categorical')\n",
        "x_test=test_datagen.flow_from_directory('fruit-dataset/fruit-dataset/test',target_size=(128,128),batch_size=32,class_mode='categorical')"
      ],
      "metadata": {
        "colab": {
          "base_uri": "https://localhost:8080/"
        },
        "id": "caddkScR1w5O",
        "outputId": "bd32569f-4cb1-40ac-a7aa-e70cca92d903"
      },
      "execution_count": 7,
      "outputs": [
        {
          "output_type": "stream",
          "name": "stdout",
          "text": [
            "Found 5384 images belonging to 6 classes.\n",
            "Found 1686 images belonging to 6 classes.\n"
          ]
        }
      ]
    },
    {
      "cell_type": "code",
      "source": [
        "from keras.models import Sequential\n",
        "from keras.layers import Dense\n",
        "from keras.layers import Convolution2D\n",
        "from keras.layers import MaxPooling2D\n",
        "from keras.layers import Flatten"
      ],
      "metadata": {
        "id": "JWKfzSA32coy"
      },
      "execution_count": 8,
      "outputs": []
    },
    {
      "cell_type": "code",
      "source": [
        "model=Sequential()"
      ],
      "metadata": {
        "id": "1vl8iwx73Aa5"
      },
      "execution_count": 9,
      "outputs": []
    },
    {
      "cell_type": "code",
      "source": [
        "model.add(Convolution2D(32,(3,3),input_shape=(128,128,3),activation='relu'))"
      ],
      "metadata": {
        "id": "LXP9ED2r3QjF"
      },
      "execution_count": 10,
      "outputs": []
    },
    {
      "cell_type": "code",
      "source": [
        "model.add(MaxPooling2D(pool_size=(2,2)))"
      ],
      "metadata": {
        "id": "n50pwZPk3dUB"
      },
      "execution_count": 11,
      "outputs": []
    },
    {
      "cell_type": "code",
      "source": [
        "model.add(Flatten())"
      ],
      "metadata": {
        "id": "cK6xfUex3QFk"
      },
      "execution_count": 12,
      "outputs": []
    },
    {
      "cell_type": "code",
      "source": [
        "model.summary()"
      ],
      "metadata": {
        "colab": {
          "base_uri": "https://localhost:8080/"
        },
        "id": "14dVk6aYsaBb",
        "outputId": "4619babc-05bd-45e3-ac3a-c7f60c3d0902"
      },
      "execution_count": 13,
      "outputs": [
        {
          "output_type": "stream",
          "name": "stdout",
          "text": [
            "Model: \"sequential\"\n",
            "_________________________________________________________________\n",
            " Layer (type)                Output Shape              Param #   \n",
            "=================================================================\n",
            " conv2d (Conv2D)             (None, 126, 126, 32)      896       \n",
            "                                                                 \n",
            " max_pooling2d (MaxPooling2D  (None, 63, 63, 32)       0         \n",
            " )                                                               \n",
            "                                                                 \n",
            " flatten (Flatten)           (None, 127008)            0         \n",
            "                                                                 \n",
            "=================================================================\n",
            "Total params: 896\n",
            "Trainable params: 896\n",
            "Non-trainable params: 0\n",
            "_________________________________________________________________\n"
          ]
        }
      ]
    },
    {
      "cell_type": "code",
      "source": [
        "model.add(Dense(40,kernel_initializer = 'uniform',activation = 'relu'))\n",
        "model.add(Dense(20,kernel_initializer = 'random_uniform',activation = 'relu'))\n",
        "model.add(Dense(6,kernel_initializer = 'random_uniform',activation = 'softmax'))"
      ],
      "metadata": {
        "id": "kffd_D_C3wma"
      },
      "execution_count": 14,
      "outputs": []
    },
    {
      "cell_type": "code",
      "source": [
        "model.compile(loss='categorical_crossentropy',optimizer='adam',metrics=['accuracy'])"
      ],
      "metadata": {
        "id": "H_A41hnm7DTR"
      },
      "execution_count": 15,
      "outputs": []
    },
    {
      "cell_type": "code",
      "source": [
        "model.fit_generator(x_train,steps_per_epoch=30,epochs=3,validation_data=x_test,validation_steps=52)"
      ],
      "metadata": {
        "id": "p8SgW1Kx8Baf",
        "colab": {
          "base_uri": "https://localhost:8080/"
        },
        "outputId": "e8c5fe0b-624a-4d0a-f17c-b137d07fa9d8"
      },
      "execution_count": 16,
      "outputs": [
        {
          "output_type": "stream",
          "name": "stderr",
          "text": [
            "/usr/local/lib/python3.7/dist-packages/ipykernel_launcher.py:1: UserWarning: `Model.fit_generator` is deprecated and will be removed in a future version. Please use `Model.fit`, which supports generators.\n",
            "  \"\"\"Entry point for launching an IPython kernel.\n"
          ]
        },
        {
          "output_type": "stream",
          "name": "stdout",
          "text": [
            "Epoch 1/3\n",
            "30/30 [==============================] - 29s 930ms/step - loss: 1.6331 - accuracy: 0.3458 - val_loss: 81.9128 - val_accuracy: 0.4645\n",
            "Epoch 2/3\n",
            "30/30 [==============================] - 30s 999ms/step - loss: 1.1733 - accuracy: 0.5780 - val_loss: 87.0553 - val_accuracy: 0.6641\n",
            "Epoch 3/3\n",
            "30/30 [==============================] - 29s 969ms/step - loss: 0.8397 - accuracy: 0.6880 - val_loss: 65.9194 - val_accuracy: 0.7302\n"
          ]
        },
        {
          "output_type": "execute_result",
          "data": {
            "text/plain": [
              "<keras.callbacks.History at 0x7fa54e5925d0>"
            ]
          },
          "metadata": {},
          "execution_count": 16
        }
      ]
    },
    {
      "cell_type": "code",
      "source": [
        "model.save('fruit.h5')"
      ],
      "metadata": {
        "id": "Dg4i8kXS4voZ"
      },
      "execution_count": 17,
      "outputs": []
    },
    {
      "cell_type": "code",
      "source": [
        "model.summary()"
      ],
      "metadata": {
        "id": "yXhFWat94b3q",
        "colab": {
          "base_uri": "https://localhost:8080/"
        },
        "outputId": "5304ea3e-7e32-4388-f7c5-60fa9dd6ee37"
      },
      "execution_count": null,
      "outputs": [
        {
          "output_type": "stream",
          "name": "stdout",
          "text": [
            "Model: \"sequential\"\n",
            "_________________________________________________________________\n",
            " Layer (type)                Output Shape              Param #   \n",
            "=================================================================\n",
            " conv2d (Conv2D)             (None, 126, 126, 32)      896       \n",
            "                                                                 \n",
            " max_pooling2d (MaxPooling2D  (None, 63, 63, 32)       0         \n",
            " )                                                               \n",
            "                                                                 \n",
            " flatten (Flatten)           (None, 127008)            0         \n",
            "                                                                 \n",
            " dense (Dense)               (None, 40)                5080360   \n",
            "                                                                 \n",
            " dense_1 (Dense)             (None, 20)                820       \n",
            "                                                                 \n",
            " dense_3 (Dense)             (None, 40)                840       \n",
            "                                                                 \n",
            " dense_4 (Dense)             (None, 20)                820       \n",
            "                                                                 \n",
            " dense_5 (Dense)             (None, 6)                 126       \n",
            "                                                                 \n",
            "=================================================================\n",
            "Total params: 5,083,862\n",
            "Trainable params: 5,083,862\n",
            "Non-trainable params: 0\n",
            "_________________________________________________________________\n"
          ]
        }
      ]
    },
    {
      "cell_type": "code",
      "source": [
        "import keras\n",
        "from keras.preprocessing.image import ImageDataGenerator\n",
        "train_datagen = ImageDataGenerator(rescale = 1./255,shear_range = 0.2,zoom_range = 0.2,horizontal_flip = True)\n",
        "test_datagen =ImageDataGenerator(rescale = 1)"
      ],
      "metadata": {
        "id": "xRymYunc8p4k"
      },
      "execution_count": 18,
      "outputs": []
    },
    {
      "cell_type": "code",
      "source": [
        "x_train = train_datagen.flow_from_directory('/content/drive/MyDrive/Dataset Plant Disease/Veg-dataset/Veg-dataset/train_set',target_size = (128,128),batch_size = 16,class_mode = 'categorical')"
      ],
      "metadata": {
        "colab": {
          "base_uri": "https://localhost:8080/"
        },
        "id": "mM-34FCujsTg",
        "outputId": "ae46e393-1e71-49a9-b443-4c1692319d4e"
      },
      "execution_count": 19,
      "outputs": [
        {
          "output_type": "stream",
          "name": "stdout",
          "text": [
            "Found 11386 images belonging to 9 classes.\n"
          ]
        }
      ]
    },
    {
      "cell_type": "code",
      "source": [
        "x_test = test_datagen.flow_from_directory('/content/drive/MyDrive/Dataset Plant Disease/Veg-dataset/Veg-dataset/test_set',target_size = (128,128),batch_size = 16,class_mode = 'categorical')"
      ],
      "metadata": {
        "id": "4SZJef0fkUol",
        "colab": {
          "base_uri": "https://localhost:8080/"
        },
        "outputId": "446fe7a0-2012-4b59-b9db-f9f8011682cd"
      },
      "execution_count": 20,
      "outputs": [
        {
          "output_type": "stream",
          "name": "stdout",
          "text": [
            "Found 3416 images belonging to 9 classes.\n"
          ]
        }
      ]
    },
    {
      "cell_type": "code",
      "source": [
        "from keras.models import Sequential\n",
        "from keras.layers import Dense\n",
        "from keras.layers import Convolution2D\n",
        "from keras.layers import MaxPooling2D\n",
        "from keras.layers import Flatten"
      ],
      "metadata": {
        "id": "Mg2tlcB9jsbw"
      },
      "execution_count": 21,
      "outputs": []
    },
    {
      "cell_type": "code",
      "source": [
        "model = Sequential()"
      ],
      "metadata": {
        "id": "4BKMN184kZKX"
      },
      "execution_count": 22,
      "outputs": []
    },
    {
      "cell_type": "code",
      "source": [
        "model.add(Convolution2D(32,(3,3),input_shape =(128,128,3),activation = 'relu'))"
      ],
      "metadata": {
        "id": "u8D7pB_kkcUF"
      },
      "execution_count": 23,
      "outputs": []
    },
    {
      "cell_type": "code",
      "source": [
        "model.add(MaxPooling2D(pool_size = (2,2)))"
      ],
      "metadata": {
        "id": "E6LEiDVmknCR"
      },
      "execution_count": 24,
      "outputs": []
    },
    {
      "cell_type": "code",
      "source": [
        "model.add(Flatten())"
      ],
      "metadata": {
        "id": "-WIcNqK-kqkQ"
      },
      "execution_count": 25,
      "outputs": []
    },
    {
      "cell_type": "code",
      "source": [
        "model.add(Dense(300, kernel_initializer = 'uniform', activation ='relu'))"
      ],
      "metadata": {
        "id": "LvrFOobRktfr"
      },
      "execution_count": 26,
      "outputs": []
    },
    {
      "cell_type": "code",
      "source": [
        "model.add(Dense(150, kernel_initializer = 'uniform', activation ='relu'))"
      ],
      "metadata": {
        "id": "b4CFu2jvkuDy"
      },
      "execution_count": 27,
      "outputs": []
    },
    {
      "cell_type": "code",
      "source": [
        "model.add(Dense(75, kernel_initializer = 'uniform', activation ='relu'))"
      ],
      "metadata": {
        "id": "uJITHchAkv5g"
      },
      "execution_count": 28,
      "outputs": []
    },
    {
      "cell_type": "code",
      "source": [
        "model.add(Dense(9, activation ='softmax', kernel_initializer ='uniform'))"
      ],
      "metadata": {
        "id": "tpM7EygXkyTA"
      },
      "execution_count": 29,
      "outputs": []
    },
    {
      "cell_type": "code",
      "source": [
        "model.compile(loss = 'categorical_crossentropy', optimizer = \"adam\", metrics = [\"accuracy\"])"
      ],
      "metadata": {
        "id": "bHTfHniPk0ip"
      },
      "execution_count": 30,
      "outputs": []
    },
    {
      "cell_type": "code",
      "source": [
        "model.fit_generator(x_train, steps_per_epoch = 89,epochs = 20, validation_data = x_test, validation_steps = 27)"
      ],
      "metadata": {
        "id": "kzU54Ag-k2mS",
        "colab": {
          "base_uri": "https://localhost:8080/"
        },
        "outputId": "4ed45a3c-fd4c-4f87-9d72-57efbe5cc158"
      },
      "execution_count": 31,
      "outputs": [
        {
          "output_type": "stream",
          "name": "stderr",
          "text": [
            "/usr/local/lib/python3.7/dist-packages/ipykernel_launcher.py:1: UserWarning: `Model.fit_generator` is deprecated and will be removed in a future version. Please use `Model.fit`, which supports generators.\n",
            "  \"\"\"Entry point for launching an IPython kernel.\n"
          ]
        },
        {
          "output_type": "stream",
          "name": "stdout",
          "text": [
            "Epoch 1/20\n",
            "89/89 [==============================] - 66s 728ms/step - loss: 2.0858 - accuracy: 0.2058 - val_loss: 323.1223 - val_accuracy: 0.1921\n",
            "Epoch 2/20\n",
            "89/89 [==============================] - 57s 633ms/step - loss: 1.7452 - accuracy: 0.3476 - val_loss: 216.5815 - val_accuracy: 0.3218\n",
            "Epoch 3/20\n",
            "89/89 [==============================] - 57s 635ms/step - loss: 1.4996 - accuracy: 0.4487 - val_loss: 288.1514 - val_accuracy: 0.3009\n",
            "Epoch 4/20\n",
            "89/89 [==============================] - 61s 682ms/step - loss: 1.3389 - accuracy: 0.5154 - val_loss: 316.0408 - val_accuracy: 0.3889\n",
            "Epoch 5/20\n",
            "89/89 [==============================] - 58s 653ms/step - loss: 1.2360 - accuracy: 0.5534 - val_loss: 766.7997 - val_accuracy: 0.2477\n",
            "Epoch 6/20\n",
            "89/89 [==============================] - 57s 637ms/step - loss: 1.1267 - accuracy: 0.5808 - val_loss: 781.9597 - val_accuracy: 0.2963\n",
            "Epoch 7/20\n",
            "89/89 [==============================] - 56s 629ms/step - loss: 0.9688 - accuracy: 0.6538 - val_loss: 1081.2609 - val_accuracy: 0.2384\n",
            "Epoch 8/20\n",
            "89/89 [==============================] - 56s 633ms/step - loss: 0.9242 - accuracy: 0.6735 - val_loss: 941.4527 - val_accuracy: 0.3218\n",
            "Epoch 9/20\n",
            "89/89 [==============================] - 62s 699ms/step - loss: 0.8454 - accuracy: 0.6959 - val_loss: 1356.9131 - val_accuracy: 0.2523\n",
            "Epoch 10/20\n",
            "89/89 [==============================] - 58s 647ms/step - loss: 0.7577 - accuracy: 0.7233 - val_loss: 1847.6118 - val_accuracy: 0.2315\n",
            "Epoch 11/20\n",
            "89/89 [==============================] - 58s 650ms/step - loss: 0.7357 - accuracy: 0.7500 - val_loss: 1390.6115 - val_accuracy: 0.3194\n",
            "Epoch 12/20\n",
            "89/89 [==============================] - 55s 620ms/step - loss: 0.6772 - accuracy: 0.7388 - val_loss: 1521.7389 - val_accuracy: 0.2731\n",
            "Epoch 13/20\n",
            "89/89 [==============================] - 55s 621ms/step - loss: 0.6567 - accuracy: 0.7718 - val_loss: 1325.7310 - val_accuracy: 0.3426\n",
            "Epoch 14/20\n",
            "89/89 [==============================] - 55s 622ms/step - loss: 0.6272 - accuracy: 0.7828 - val_loss: 1421.1616 - val_accuracy: 0.2708\n",
            "Epoch 15/20\n",
            "89/89 [==============================] - 57s 635ms/step - loss: 0.5869 - accuracy: 0.8032 - val_loss: 1638.9911 - val_accuracy: 0.2431\n",
            "Epoch 16/20\n",
            "89/89 [==============================] - 57s 641ms/step - loss: 0.6766 - accuracy: 0.7662 - val_loss: 1067.2937 - val_accuracy: 0.3287\n",
            "Epoch 17/20\n",
            "89/89 [==============================] - 63s 704ms/step - loss: 0.5482 - accuracy: 0.8076 - val_loss: 1516.8125 - val_accuracy: 0.2616\n",
            "Epoch 18/20\n",
            "89/89 [==============================] - 56s 631ms/step - loss: 0.5248 - accuracy: 0.8018 - val_loss: 2278.6553 - val_accuracy: 0.2199\n",
            "Epoch 19/20\n",
            "89/89 [==============================] - 57s 640ms/step - loss: 0.5770 - accuracy: 0.7962 - val_loss: 1445.8206 - val_accuracy: 0.2801\n",
            "Epoch 20/20\n",
            "89/89 [==============================] - 58s 648ms/step - loss: 0.4679 - accuracy: 0.8420 - val_loss: 1819.0529 - val_accuracy: 0.2986\n"
          ]
        },
        {
          "output_type": "execute_result",
          "data": {
            "text/plain": [
              "<keras.callbacks.History at 0x7fa549dd9850>"
            ]
          },
          "metadata": {},
          "execution_count": 31
        }
      ]
    },
    {
      "cell_type": "code",
      "source": [
        "model.save('vegetable.h5')"
      ],
      "metadata": {
        "id": "OXm0PE6Ak7uz"
      },
      "execution_count": 32,
      "outputs": []
    }
  ]
}