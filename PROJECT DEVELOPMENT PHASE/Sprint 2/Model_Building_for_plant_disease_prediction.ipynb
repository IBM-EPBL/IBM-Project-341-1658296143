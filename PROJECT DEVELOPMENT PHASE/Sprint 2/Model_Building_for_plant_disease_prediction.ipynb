{
  "cells": [
    {
      "cell_type": "code",
      "execution_count": null,
      "metadata": {
        "id": "ijRDBPFBjKm7"
      },
      "outputs": [],
      "source": [
        "import zipfile\n",
        "from google.colab import drive\n",
        "\n",
        "drive.mount('/content/drive/')\n",
        "\n",
        "zip_ref = zipfile.ZipFile(\"/content/drive/MyDrive/Fertilizers_Recommendation_ System_For_Disease_ Prediction.zip\", 'r')\n",
        "zip_ref.extractall(\"/content/drive/MyDrive\")\n",
        "zip_ref.close()"
      ]
    },
    {
      "cell_type": "code",
      "execution_count": null,
      "metadata": {
        "colab": {
          "base_uri": "https://localhost:8080/"
        },
        "id": "AgVOH3DdcSTC",
        "outputId": "e03a2d3e-f14d-4061-9cd3-3d2e7c7a76cf"
      },
      "outputs": [
        {
          "name": "stdout",
          "output_type": "stream",
          "text": [
            "\u001b[0m\u001b[01;34mfruit-dataset\u001b[0m/  fruit.h5  \u001b[01;34mVeg-dataset\u001b[0m/  vegetable.h5\n"
          ]
        }
      ],
      "source": [
        "ls"
      ]
    },
    {
      "cell_type": "code",
      "execution_count": null,
      "metadata": {
        "colab": {
          "base_uri": "https://localhost:8080/"
        },
        "id": "MLkVkVWFd1lb",
        "outputId": "5c07c647-dae6-4b86-83f7-bf0ae17f9e70"
      },
      "outputs": [
        {
          "name": "stdout",
          "output_type": "stream",
          "text": [
            "[Errno 2] No such file or directory: 'drive/MyDrive/Dataset Plant Disease'\n",
            "/content/drive/MyDrive/Dataset Plant Disease\n"
          ]
        }
      ],
      "source": [
        "cd drive/MyDrive/Dataset Plant Disease"
      ]
    },
    {
      "cell_type": "code",
      "execution_count": null,
      "metadata": {
        "colab": {
          "base_uri": "https://localhost:8080/"
        },
        "id": "AuTnq31sd5hj",
        "outputId": "d7e8d83e-3685-4eb2-d178-49cdc2e985ad"
      },
      "outputs": [
        {
          "name": "stdout",
          "output_type": "stream",
          "text": [
            "\u001b[0m\u001b[01;34mfruit-dataset\u001b[0m/  fruit.h5  \u001b[01;34mVeg-dataset\u001b[0m/  vegetable.h5\n"
          ]
        }
      ],
      "source": [
        "ls"
      ]
    },
    {
      "cell_type": "code",
      "execution_count": null,
      "metadata": {
        "id": "xRymYunc8p4k"
      },
      "outputs": [],
      "source": [
        "import keras\n",
        "from keras.preprocessing.image import ImageDataGenerator\n",
        "train_datagen = ImageDataGenerator(rescale = 1./255,shear_range = 0.2,zoom_range = 0.2,horizontal_flip = True)\n",
        "test_datagen =ImageDataGenerator(rescale = 1)"
      ]
    },
    {
      "cell_type": "code",
      "execution_count": null,
      "metadata": {
        "colab": {
          "base_uri": "https://localhost:8080/"
        },
        "id": "mM-34FCujsTg",
        "outputId": "e0296a27-16d0-43fe-fef7-2087952979cf"
      },
      "outputs": [
        {
          "name": "stdout",
          "output_type": "stream",
          "text": [
            "Found 11386 images belonging to 9 classes.\n"
          ]
        }
      ],
      "source": [
        "x_train = train_datagen.flow_from_directory('/content/drive/MyDrive/Dataset Plant Disease/Veg-dataset/Veg-dataset/train_set',target_size = (128,128),batch_size = 16,class_mode = 'categorical')"
      ]
    },
    {
      "cell_type": "code",
      "execution_count": null,
      "metadata": {
        "colab": {
          "base_uri": "https://localhost:8080/"
        },
        "id": "4SZJef0fkUol",
        "outputId": "de8cf807-d8df-4154-8697-9159b1896988"
      },
      "outputs": [
        {
          "name": "stdout",
          "output_type": "stream",
          "text": [
            "Found 3416 images belonging to 9 classes.\n"
          ]
        }
      ],
      "source": [
        "x_test = test_datagen.flow_from_directory('/content/drive/MyDrive/Dataset Plant Disease/Veg-dataset/Veg-dataset/test_set',target_size = (128,128),batch_size = 16,class_mode = 'categorical')"
      ]
    },
    {
      "cell_type": "code",
      "execution_count": null,
      "metadata": {
        "id": "Mg2tlcB9jsbw"
      },
      "outputs": [],
      "source": [
        "from keras.models import Sequential\n",
        "from keras.layers import Dense\n",
        "from keras.layers import Convolution2D\n",
        "from keras.layers import MaxPooling2D\n",
        "from keras.layers import Flatten"
      ]
    },
    {
      "cell_type": "code",
      "execution_count": null,
      "metadata": {
        "id": "4BKMN184kZKX"
      },
      "outputs": [],
      "source": [
        "model = Sequential()"
      ]
    },
    {
      "cell_type": "code",
      "execution_count": null,
      "metadata": {
        "id": "u8D7pB_kkcUF"
      },
      "outputs": [],
      "source": [
        "model.add(Convolution2D(32,(3,3),input_shape =(128,128,3),activation = 'relu'))"
      ]
    },
    {
      "cell_type": "code",
      "execution_count": null,
      "metadata": {
        "id": "E6LEiDVmknCR"
      },
      "outputs": [],
      "source": [
        "model.add(MaxPooling2D(pool_size = (2,2)))"
      ]
    },
    {
      "cell_type": "code",
      "execution_count": null,
      "metadata": {
        "id": "-WIcNqK-kqkQ"
      },
      "outputs": [],
      "source": [
        "model.add(Flatten())"
      ]
    },
    {
      "cell_type": "code",
      "execution_count": null,
      "metadata": {
        "id": "LvrFOobRktfr"
      },
      "outputs": [],
      "source": [
        "model.add(Dense(300, kernel_initializer = 'uniform', activation ='relu'))"
      ]
    },
    {
      "cell_type": "code",
      "execution_count": null,
      "metadata": {
        "id": "b4CFu2jvkuDy"
      },
      "outputs": [],
      "source": [
        "model.add(Dense(150, kernel_initializer = 'uniform', activation ='relu'))"
      ]
    },
    {
      "cell_type": "code",
      "execution_count": null,
      "metadata": {
        "id": "uJITHchAkv5g"
      },
      "outputs": [],
      "source": [
        "model.add(Dense(75, kernel_initializer = 'uniform', activation ='relu'))"
      ]
    },
    {
      "cell_type": "code",
      "execution_count": null,
      "metadata": {
        "id": "tpM7EygXkyTA"
      },
      "outputs": [],
      "source": [
        "model.add(Dense(9, activation ='softmax', kernel_initializer ='uniform'))"
      ]
    },
    {
      "cell_type": "code",
      "execution_count": null,
      "metadata": {
        "colab": {
          "background_save": true
        },
        "id": "bHTfHniPk0ip",
        "outputId": "398aa885-35a4-4698-ddd8-40a7471e67aa"
      },
      "outputs": [
        {
          "ename": "NameError",
          "evalue": "ignored",
          "output_type": "error",
          "traceback": [
            "\u001b[0;31m---------------------------------------------------------------------------\u001b[0m",
            "\u001b[0;31mNameError\u001b[0m                                 Traceback (most recent call last)",
            "\u001b[0;32m<ipython-input-1-ed32f6155471>\u001b[0m in \u001b[0;36m<module>\u001b[0;34m\u001b[0m\n\u001b[0;32m----> 1\u001b[0;31m \u001b[0mmodel\u001b[0m\u001b[0;34m.\u001b[0m\u001b[0mcompile\u001b[0m\u001b[0;34m(\u001b[0m\u001b[0mloss\u001b[0m \u001b[0;34m=\u001b[0m \u001b[0;34m'categorical_crossentropy'\u001b[0m\u001b[0;34m,\u001b[0m \u001b[0moptimizer\u001b[0m \u001b[0;34m=\u001b[0m \u001b[0;34m\"adam\"\u001b[0m\u001b[0;34m,\u001b[0m \u001b[0mmetrics\u001b[0m \u001b[0;34m=\u001b[0m \u001b[0;34m[\u001b[0m\u001b[0;34m\"accuracy\"\u001b[0m\u001b[0;34m]\u001b[0m\u001b[0;34m)\u001b[0m\u001b[0;34m\u001b[0m\u001b[0;34m\u001b[0m\u001b[0m\n\u001b[0m",
            "\u001b[0;31mNameError\u001b[0m: name 'model' is not defined"
          ]
        }
      ],
      "source": [
        "model.compile(loss = 'categorical_crossentropy', optimizer = \"adam\", metrics = [\"accuracy\"])"
      ]
    },
    {
      "cell_type": "code",
      "execution_count": null,
      "metadata": {
        "colab": {
          "base_uri": "https://localhost:8080/"
        },
        "id": "kzU54Ag-k2mS",
        "outputId": "fa0275d5-9395-4171-fd68-da416a3ec59a"
      },
      "outputs": [
        {
          "name": "stderr",
          "output_type": "stream",
          "text": [
            "/usr/local/lib/python3.7/dist-packages/ipykernel_launcher.py:1: UserWarning: `Model.fit_generator` is deprecated and will be removed in a future version. Please use `Model.fit`, which supports generators.\n",
            "  \"\"\"Entry point for launching an IPython kernel.\n"
          ]
        },
        {
          "name": "stdout",
          "output_type": "stream",
          "text": [
            "Epoch 1/20\n",
            "89/89 [==============================] - 791s 9s/step - loss: 1.5882 - accuracy: 0.4319 - val_loss: 155.9911 - val_accuracy: 0.4792\n",
            "Epoch 2/20\n",
            "89/89 [==============================] - 692s 8s/step - loss: 1.3355 - accuracy: 0.5127 - val_loss: 208.4341 - val_accuracy: 0.4792\n",
            "Epoch 3/20\n",
            "38/89 [===========>..................] - ETA: 4:31 - loss: 1.2383 - accuracy: 0.5839"
          ]
        }
      ],
      "source": [
        "model.fit_generator(x_train, steps_per_epoch = 89,epochs = 20, validation_data = x_test, validation_steps = 27)"
      ]
    },
    {
      "cell_type": "code",
      "execution_count": null,
      "metadata": {
        "id": "OXm0PE6Ak7uz"
      },
      "outputs": [],
      "source": [
        "model.save('vegetable.h5')"
      ]
    }
  ],
  "metadata": {
    "colab": {
      "collapsed_sections": [],
      "provenance": []
    },
    "kernelspec": {
      "display_name": "Python 3",
      "name": "python3"
    },
    "language_info": {
      "name": "python"
    }
  },
  "nbformat": 4,
  "nbformat_minor": 0
}